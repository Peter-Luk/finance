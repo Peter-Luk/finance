{
 "cells": [
  {
   "cell_type": "code",
   "execution_count": 1,
   "metadata": {},
   "outputs": [],
   "source": [
    "from y2n import Equities as yE\n",
    "from nta import ONA, Viewer\n",
    "from bokeh.plotting import figure, show, output_notebook\n",
    "from bokeh.palettes import Spectral11\n",
    "import pandas as pd"
   ]
  },
  {
   "cell_type": "code",
   "execution_count": 11,
   "metadata": {},
   "outputs": [
    {
     "name": "stdout",
     "output_type": "stream",
     "text": [
      "[*********************100%***********************]  144 of 144 downloaded\n"
     ]
    }
   ],
   "source": [
    "aen = yE().fetch(adhoc=True)"
   ]
  },
  {
   "cell_type": "code",
   "execution_count": 3,
   "metadata": {},
   "outputs": [],
   "source": [
    "def plot(stock_code=700, lb=2.3, ub=2.6):\n",
    "    yd = aen.to_dict()[stock_code]\n",
    "    ad, vd = ONA(yd), Viewer(yd)\n",
    "    bd = ad.bb()[-62:]\n",
    "    kd = ad.kc()[-62:]\n",
    "    zd = ad.apz()[-62:]\n",
    "    md = vd.mas()[-62:]\n",
    "    bnl = len(bd.columns)\n",
    "    knl = len(kd.columns)\n",
    "    znl = len(zd.columns)\n",
    "    mnl = len(md.columns)\n",
    "    p = figure(tools='pan, box_zoom, reset, save', x_axis_type='datetime', y_axis_type='log', y_range=[10**lb, 10**ub], title='{:04d}.HK'.format(stock_code), x_axis_label='Trade Date', y_axis_label='HKD')\n",
    "    p.multi_line(xs=[bd.index.values]*bnl, ys=[bd[_].values for _ in bd], legend='BB', line_color='blue', line_width=2)\n",
    "    p.multi_line(xs=[kd.index.values]*knl, ys=[kd[_].values for _ in kd], legend='KC', line_color='purple', line_width=2)\n",
    "    p.multi_line(xs=[zd.index.values]*znl, ys=[zd[_].values for _ in zd], legend='APZ', line_color='black', line_width=2)\n",
    "    p.multi_line(xs=[md.index.values]*mnl, ys=[md[_].values for _ in md], line_color=Spectral11[0:mnl])\n",
    "    return p"
   ]
  },
  {
   "cell_type": "code",
   "execution_count": 12,
   "metadata": {},
   "outputs": [],
   "source": [
    "show(plot(stock_code=2018,lb=1.7,ub=2.1))"
   ]
  },
  {
   "cell_type": "code",
   "execution_count": null,
   "metadata": {},
   "outputs": [],
   "source": []
  }
 ],
 "metadata": {
  "kernelspec": {
   "display_name": "Python [conda root]",
   "language": "python",
   "name": "conda-root-py"
  },
  "language_info": {
   "codemirror_mode": {
    "name": "ipython",
    "version": 3
   },
   "file_extension": ".py",
   "mimetype": "text/x-python",
   "name": "python",
   "nbconvert_exporter": "python",
   "pygments_lexer": "ipython3",
   "version": "3.5.6"
  }
 },
 "nbformat": 4,
 "nbformat_minor": 2
}
