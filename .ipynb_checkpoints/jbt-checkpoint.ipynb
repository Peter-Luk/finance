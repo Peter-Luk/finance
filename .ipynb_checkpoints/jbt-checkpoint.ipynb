{
 "cells": [
  {
   "cell_type": "code",
   "execution_count": null,
   "metadata": {
    "collapsed": true
   },
   "outputs": [],
   "source": [
    "him = getattr(__import__('handy'),'him')\n",
    "__ = him({'utilities':('mtf',),'bt':('LF',)})\n",
    "for _ in list(__.keys()): exec(\"%s=__['%s']\" % (_, _))"
   ]
  },
  {
   "cell_type": "code",
   "execution_count": null,
   "metadata": {
    "collapsed": true
   },
   "outputs": [],
   "source": [
    "futures_type = 'mhi'\n",
    "lf(mtf(futures_type)).plot()"
   ]
  },
  {
   "cell_type": "code",
   "execution_count": null,
   "metadata": {
    "collapsed": true
   },
   "outputs": [],
   "source": [
    "mpd = lf(mtf(futures_type)).fp\n",
    "ar, mos = mpd.fdc('b'), mpd.ltdmos('a')\n",
    "lc, cs = ar['Close'].values[-1], ar['Close'].std()\n",
    "il = list(filter(lambda _: (_ > lc - cs) and (_ < lc + cs), mos))\n",
    "ol = lsit(filter(lambda _: (_ < lc - cs) or (_ > lc + cs), mos))\n",
    "il, lc, ol"
   ]
  },
  {
   "cell_type": "code",
   "execution_count": null,
   "metadata": {
    "collapsed": true
   },
   "outputs": [],
   "source": [
    "mos"
   ]
  }
 ],
 "metadata": {
  "kernelspec": {
   "display_name": "Python 3",
   "language": "python",
   "name": "python3"
  },
  "language_info": {
   "codemirror_mode": {
    "name": "ipython",
    "version": 3
   },
   "file_extension": ".py",
   "mimetype": "text/x-python",
   "name": "python",
   "nbconvert_exporter": "python",
   "pygments_lexer": "ipython3",
   "version": "3.6.1"
  }
 },
 "nbformat": 4,
 "nbformat_minor": 2
}
