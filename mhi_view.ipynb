{
 "cells": [
  {
   "cell_type": "code",
   "execution_count": 1,
   "metadata": {
    "collapsed": true
   },
   "outputs": [],
   "source": [
    "%matplotlib tk"
   ]
  },
  {
   "cell_type": "code",
   "execution_count": 2,
   "metadata": {
    "collapsed": true
   },
   "outputs": [],
   "source": [
    "code = 'mhim7'"
   ]
  },
  {
   "cell_type": "code",
   "execution_count": 3,
   "metadata": {
    "collapsed": true
   },
   "outputs": [],
   "source": [
    "mp = getattr(__import__('pt_2'),'PI')(code, 10)"
   ]
  },
  {
   "cell_type": "code",
   "execution_count": 4,
   "metadata": {
    "collapsed": true
   },
   "outputs": [],
   "source": [
    "getattr(mp,'plot')()"
   ]
  },
  {
   "cell_type": "code",
   "execution_count": 5,
   "metadata": {
    "scrolled": true
   },
   "outputs": [
    {
     "data": {
      "text/plain": [
       "[25244, 25434, 25439, 25549, 25710, 25717, 25733, 25826, 25995, 26032]"
      ]
     },
     "execution_count": 5,
     "metadata": {},
     "output_type": "execute_result"
    }
   ],
   "source": [
    "getattr(mp,'ltdmos')('a')"
   ]
  },
  {
   "cell_type": "code",
   "execution_count": 6,
   "metadata": {},
   "outputs": [
    {
     "data": {
      "text/html": [
       "<div>\n",
       "<table border=\"1\" class=\"dataframe\">\n",
       "  <thead>\n",
       "    <tr style=\"text-align: right;\">\n",
       "      <th></th>\n",
       "      <th>Date</th>\n",
       "      <th>Delta</th>\n",
       "      <th>ATR</th>\n",
       "      <th>MAO</th>\n",
       "      <th>Open</th>\n",
       "      <th>High</th>\n",
       "      <th>Low</th>\n",
       "      <th>Close</th>\n",
       "      <th>Volume</th>\n",
       "    </tr>\n",
       "  </thead>\n",
       "  <tbody>\n",
       "    <tr>\n",
       "      <th>17</th>\n",
       "      <td>2017-06-12</td>\n",
       "      <td>268</td>\n",
       "      <td>180.786345</td>\n",
       "      <td>ESWK</td>\n",
       "      <td>25808</td>\n",
       "      <td>25820</td>\n",
       "      <td>25552</td>\n",
       "      <td>25584</td>\n",
       "      <td>37956</td>\n",
       "    </tr>\n",
       "    <tr>\n",
       "      <th>22</th>\n",
       "      <td>2017-06-19</td>\n",
       "      <td>289</td>\n",
       "      <td>194.339999</td>\n",
       "      <td>EWSK</td>\n",
       "      <td>25508</td>\n",
       "      <td>25797</td>\n",
       "      <td>25508</td>\n",
       "      <td>25777</td>\n",
       "      <td>28472</td>\n",
       "    </tr>\n",
       "  </tbody>\n",
       "</table>\n",
       "</div>"
      ],
      "text/plain": [
       "         Date  Delta         ATR   MAO   Open   High    Low  Close  Volume\n",
       "17 2017-06-12    268  180.786345  ESWK  25808  25820  25552  25584   37956\n",
       "22 2017-06-19    289  194.339999  EWSK  25508  25797  25508  25777   28472"
      ]
     },
     "execution_count": 6,
     "metadata": {},
     "output_type": "execute_result"
    }
   ],
   "source": [
    "getattr(mp,'xfinder')('d')"
   ]
  },
  {
   "cell_type": "code",
   "execution_count": 7,
   "metadata": {
    "scrolled": true
   },
   "outputs": [
    {
     "data": {
      "text/html": [
       "<div>\n",
       "<table border=\"1\" class=\"dataframe\">\n",
       "  <thead>\n",
       "    <tr style=\"text-align: right;\">\n",
       "      <th></th>\n",
       "      <th>Date</th>\n",
       "      <th>WMA</th>\n",
       "      <th>SMA</th>\n",
       "      <th>EMA</th>\n",
       "      <th>KAMA</th>\n",
       "      <th>RSI</th>\n",
       "    </tr>\n",
       "  </thead>\n",
       "  <tbody>\n",
       "    <tr>\n",
       "      <th>20</th>\n",
       "      <td>2017-06-15</td>\n",
       "      <td>25737.486152</td>\n",
       "      <td>25743.4</td>\n",
       "      <td>25498.326857</td>\n",
       "      <td>25747.103619</td>\n",
       "      <td>48.497756</td>\n",
       "    </tr>\n",
       "    <tr>\n",
       "      <th>21</th>\n",
       "      <td>2017-06-16</td>\n",
       "      <td>25719.167909</td>\n",
       "      <td>25727.0</td>\n",
       "      <td>25498.494171</td>\n",
       "      <td>25729.809617</td>\n",
       "      <td>51.221634</td>\n",
       "    </tr>\n",
       "  </tbody>\n",
       "</table>\n",
       "</div>"
      ],
      "text/plain": [
       "         Date           WMA      SMA           EMA          KAMA        RSI\n",
       "20 2017-06-15  25737.486152  25743.4  25498.326857  25747.103619  48.497756\n",
       "21 2017-06-16  25719.167909  25727.0  25498.494171  25729.809617  51.221634"
      ]
     },
     "execution_count": 7,
     "metadata": {},
     "output_type": "execute_result"
    }
   ],
   "source": [
    "getattr(mp,'xfinder')('r')"
   ]
  },
  {
   "cell_type": "code",
   "execution_count": 8,
   "metadata": {
    "collapsed": true
   },
   "outputs": [],
   "source": [
    "setattr(mp,'period',12)"
   ]
  },
  {
   "cell_type": "code",
   "execution_count": 9,
   "metadata": {
    "scrolled": true
   },
   "outputs": [
    {
     "data": {
      "text/plain": [
       "[25184, 25442, 25448, 25491, 25707, 25712, 25741, 25767, 25977, 26039]"
      ]
     },
     "execution_count": 9,
     "metadata": {},
     "output_type": "execute_result"
    }
   ],
   "source": [
    "getattr(mp,'ltdmos')('a')"
   ]
  },
  {
   "cell_type": "code",
   "execution_count": 10,
   "metadata": {},
   "outputs": [
    {
     "data": {
      "text/html": [
       "<div>\n",
       "<table border=\"1\" class=\"dataframe\">\n",
       "  <thead>\n",
       "    <tr style=\"text-align: right;\">\n",
       "      <th></th>\n",
       "      <th>Date</th>\n",
       "      <th>Delta</th>\n",
       "      <th>ATR</th>\n",
       "      <th>MAO</th>\n",
       "      <th>Open</th>\n",
       "      <th>High</th>\n",
       "      <th>Low</th>\n",
       "      <th>Close</th>\n",
       "      <th>Volume</th>\n",
       "    </tr>\n",
       "  </thead>\n",
       "  <tbody>\n",
       "    <tr>\n",
       "      <th>15</th>\n",
       "      <td>2017-06-12</td>\n",
       "      <td>268</td>\n",
       "      <td>181.007664</td>\n",
       "      <td>ESWK</td>\n",
       "      <td>25808</td>\n",
       "      <td>25820</td>\n",
       "      <td>25552</td>\n",
       "      <td>25584</td>\n",
       "      <td>37956</td>\n",
       "    </tr>\n",
       "    <tr>\n",
       "      <th>20</th>\n",
       "      <td>2017-06-19</td>\n",
       "      <td>289</td>\n",
       "      <td>192.377259</td>\n",
       "      <td>EWSK</td>\n",
       "      <td>25508</td>\n",
       "      <td>25797</td>\n",
       "      <td>25508</td>\n",
       "      <td>25777</td>\n",
       "      <td>28472</td>\n",
       "    </tr>\n",
       "  </tbody>\n",
       "</table>\n",
       "</div>"
      ],
      "text/plain": [
       "         Date  Delta         ATR   MAO   Open   High    Low  Close  Volume\n",
       "15 2017-06-12    268  181.007664  ESWK  25808  25820  25552  25584   37956\n",
       "20 2017-06-19    289  192.377259  EWSK  25508  25797  25508  25777   28472"
      ]
     },
     "execution_count": 10,
     "metadata": {},
     "output_type": "execute_result"
    }
   ],
   "source": [
    "getattr(mp,'xfinder')('d')"
   ]
  },
  {
   "cell_type": "code",
   "execution_count": 11,
   "metadata": {},
   "outputs": [
    {
     "data": {
      "text/html": [
       "<div>\n",
       "<table border=\"1\" class=\"dataframe\">\n",
       "  <thead>\n",
       "    <tr style=\"text-align: right;\">\n",
       "      <th></th>\n",
       "      <th>Date</th>\n",
       "      <th>WMA</th>\n",
       "      <th>SMA</th>\n",
       "      <th>EMA</th>\n",
       "      <th>KAMA</th>\n",
       "      <th>RSI</th>\n",
       "    </tr>\n",
       "  </thead>\n",
       "  <tbody>\n",
       "    <tr>\n",
       "      <th>18</th>\n",
       "      <td>2017-06-15</td>\n",
       "      <td>25699.181398</td>\n",
       "      <td>25699.583333</td>\n",
       "      <td>25433.066735</td>\n",
       "      <td>25745.092288</td>\n",
       "      <td>52.271632</td>\n",
       "    </tr>\n",
       "    <tr>\n",
       "      <th>19</th>\n",
       "      <td>2017-06-16</td>\n",
       "      <td>25688.466210</td>\n",
       "      <td>25696.166667</td>\n",
       "      <td>25438.644507</td>\n",
       "      <td>25738.747818</td>\n",
       "      <td>54.415003</td>\n",
       "    </tr>\n",
       "  </tbody>\n",
       "</table>\n",
       "</div>"
      ],
      "text/plain": [
       "         Date           WMA           SMA           EMA          KAMA  \\\n",
       "18 2017-06-15  25699.181398  25699.583333  25433.066735  25745.092288   \n",
       "19 2017-06-16  25688.466210  25696.166667  25438.644507  25738.747818   \n",
       "\n",
       "          RSI  \n",
       "18  52.271632  \n",
       "19  54.415003  "
      ]
     },
     "execution_count": 11,
     "metadata": {},
     "output_type": "execute_result"
    }
   ],
   "source": [
    "getattr(mp,'xfinder')('r')"
   ]
  }
 ],
 "metadata": {
  "kernelspec": {
   "display_name": "Python 3",
   "language": "python",
   "name": "python3"
  },
  "language_info": {
   "codemirror_mode": {
    "name": "ipython",
    "version": 3
   },
   "file_extension": ".py",
   "mimetype": "text/x-python",
   "name": "python",
   "nbconvert_exporter": "python",
   "pygments_lexer": "ipython3",
   "version": "3.5.2"
  }
 },
 "nbformat": 4,
 "nbformat_minor": 2
}
